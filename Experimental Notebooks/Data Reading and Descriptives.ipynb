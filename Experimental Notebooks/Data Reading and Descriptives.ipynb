{
 "cells": [
  {
   "cell_type": "code",
   "execution_count": 1,
   "id": "927f61f6",
   "metadata": {},
   "outputs": [],
   "source": [
    "import os\n",
    "import pandas as pd\n",
    "import numpy as np\n",
    "import re\n",
    "import geopandas as gpd\n",
    "import zipfile as zf"
   ]
  },
  {
   "cell_type": "code",
   "execution_count": 2,
   "id": "43df37dd",
   "metadata": {},
   "outputs": [],
   "source": [
    "path = re.sub(r'\\\\Experimental Notebooks$', '', os.getcwd())\n",
    "path = path + '\\\\Data'\n",
    "data_files = [path + '\\\\' +  x for x in os.listdir(path)]"
   ]
  },
  {
   "cell_type": "markdown",
   "id": "18b4b509",
   "metadata": {},
   "source": [
    "Trying to read the shape files"
   ]
  },
  {
   "cell_type": "code",
   "execution_count": 18,
   "id": "c8f6ea15",
   "metadata": {},
   "outputs": [
    {
     "data": {
      "text/plain": [
       "<ZipInfo filename='sdei-global-uhi-2013-shp/shp/sdei-global-uhi-2013.shp' compress_type=deflate external_attr=0x20 file_size=45210832 compress_size=19551093>"
      ]
     },
     "execution_count": 18,
     "metadata": {},
     "output_type": "execute_result"
    }
   ],
   "source": [
    "zip_path = data_files[1]\n",
    "zp = zf.ZipFile(zip_path)\n",
    "filename_zp = [files.filename for files in zp.filelist]\n",
    "what_to_get = [file for file in filename_zp if '.shp' in file]\n",
    "what_to_get[0]\n",
    "index_file = filename_zp.index(what_to_get[0])\n",
    "zp.filelist[index_file]"
   ]
  },
  {
   "cell_type": "code",
   "execution_count": 31,
   "id": "83a947ad",
   "metadata": {},
   "outputs": [
    {
     "data": {
      "text/plain": [
       "Index(['Dis No', 'Year', 'Seq', 'Disaster Group', 'Disaster Subgroup',\n",
       "       'Disaster Type', 'Disaster Subtype', 'Disaster Subsubtype',\n",
       "       'Event Name', 'Entry Criteria', 'Country', 'ISO', 'Region', 'Continent',\n",
       "       'Location', 'Origin', 'Associated Dis', 'Associated Dis2',\n",
       "       'OFDA Response', 'Appeal', 'Declaration', 'Aid Contribution',\n",
       "       'Dis Mag Value', 'Dis Mag Scale', 'Latitude', 'Longitude', 'Local Time',\n",
       "       'River Basin', 'Start Year', 'Start Month', 'Start Day', 'End Year',\n",
       "       'End Month', 'End Day', 'Total Deaths', 'No Injured', 'No Affected',\n",
       "       'No Homeless', 'Total Affected', 'Reconstruction Costs ('000 US$)',\n",
       "       'Insured Damages ('000 US$)', 'Total Damages ('000 US$)', 'CPI'],\n",
       "      dtype='object')"
      ]
     },
     "execution_count": 31,
     "metadata": {},
     "output_type": "execute_result"
    }
   ],
   "source": [
    "disasters_df = pd.read_excel(data_files[0], skiprows = 6)\n",
    "disasters_df.columns\n"
   ]
  },
  {
   "cell_type": "code",
   "execution_count": 33,
   "id": "61651472",
   "metadata": {},
   "outputs": [
    {
     "name": "stdout",
     "output_type": "stream",
     "text": [
      "{'Epidemic', 'Drought', 'Wildfire', 'Extreme temperature '}\n",
      "{nan, 'Drought', 'Forest fire', 'Land fire (Brush, Bush, Pasture)', 'Viral disease', 'Parasitic disease', 'Heat wave', 'Bacterial disease'}\n"
     ]
    }
   ],
   "source": [
    "print(set(disasters_df['Disaster Type']))\n",
    "print(set(disasters_df['Disaster Subtype']))"
   ]
  },
  {
   "cell_type": "code",
   "execution_count": 46,
   "id": "1f806483",
   "metadata": {
    "scrolled": false
   },
   "outputs": [
    {
     "data": {
      "text/html": [
       "<div>\n",
       "<style scoped>\n",
       "    .dataframe tbody tr th:only-of-type {\n",
       "        vertical-align: middle;\n",
       "    }\n",
       "\n",
       "    .dataframe tbody tr th {\n",
       "        vertical-align: top;\n",
       "    }\n",
       "\n",
       "    .dataframe thead th {\n",
       "        text-align: right;\n",
       "    }\n",
       "</style>\n",
       "<table border=\"1\" class=\"dataframe\">\n",
       "  <thead>\n",
       "    <tr style=\"text-align: right;\">\n",
       "      <th></th>\n",
       "      <th></th>\n",
       "      <th>Disaster Subtype</th>\n",
       "      <th>End Year</th>\n",
       "      <th>Start Year</th>\n",
       "    </tr>\n",
       "    <tr>\n",
       "      <th>Year</th>\n",
       "      <th>Disaster Type</th>\n",
       "      <th></th>\n",
       "      <th></th>\n",
       "      <th></th>\n",
       "    </tr>\n",
       "  </thead>\n",
       "  <tbody>\n",
       "    <tr>\n",
       "      <th rowspan=\"2\" valign=\"top\">1900</th>\n",
       "      <th>Drought</th>\n",
       "      <td>2</td>\n",
       "      <td>2</td>\n",
       "      <td>2</td>\n",
       "    </tr>\n",
       "    <tr>\n",
       "      <th>Epidemic</th>\n",
       "      <td>1</td>\n",
       "      <td>1</td>\n",
       "      <td>1</td>\n",
       "    </tr>\n",
       "    <tr>\n",
       "      <th>1901</th>\n",
       "      <th>Epidemic</th>\n",
       "      <td>0</td>\n",
       "      <td>1</td>\n",
       "      <td>1</td>\n",
       "    </tr>\n",
       "    <tr>\n",
       "      <th>1903</th>\n",
       "      <th>Drought</th>\n",
       "      <td>1</td>\n",
       "      <td>1</td>\n",
       "      <td>1</td>\n",
       "    </tr>\n",
       "    <tr>\n",
       "      <th>1906</th>\n",
       "      <th>Drought</th>\n",
       "      <td>1</td>\n",
       "      <td>1</td>\n",
       "      <td>1</td>\n",
       "    </tr>\n",
       "    <tr>\n",
       "      <th>...</th>\n",
       "      <th>...</th>\n",
       "      <td>...</td>\n",
       "      <td>...</td>\n",
       "      <td>...</td>\n",
       "    </tr>\n",
       "    <tr>\n",
       "      <th rowspan=\"3\" valign=\"top\">2020</th>\n",
       "      <th>Epidemic</th>\n",
       "      <td>6</td>\n",
       "      <td>6</td>\n",
       "      <td>6</td>\n",
       "    </tr>\n",
       "    <tr>\n",
       "      <th>Extreme temperature</th>\n",
       "      <td>4</td>\n",
       "      <td>4</td>\n",
       "      <td>4</td>\n",
       "    </tr>\n",
       "    <tr>\n",
       "      <th>Wildfire</th>\n",
       "      <td>5</td>\n",
       "      <td>8</td>\n",
       "      <td>8</td>\n",
       "    </tr>\n",
       "    <tr>\n",
       "      <th rowspan=\"2\" valign=\"top\">2021</th>\n",
       "      <th>Drought</th>\n",
       "      <td>1</td>\n",
       "      <td>1</td>\n",
       "      <td>1</td>\n",
       "    </tr>\n",
       "    <tr>\n",
       "      <th>Wildfire</th>\n",
       "      <td>2</td>\n",
       "      <td>2</td>\n",
       "      <td>2</td>\n",
       "    </tr>\n",
       "  </tbody>\n",
       "</table>\n",
       "<p>269 rows × 3 columns</p>\n",
       "</div>"
      ],
      "text/plain": [
       "                           Disaster Subtype  End Year  Start Year\n",
       "Year Disaster Type                                               \n",
       "1900 Drought                              2         2           2\n",
       "     Epidemic                             1         1           1\n",
       "1901 Epidemic                             0         1           1\n",
       "1903 Drought                              1         1           1\n",
       "1906 Drought                              1         1           1\n",
       "...                                     ...       ...         ...\n",
       "2020 Epidemic                             6         6           6\n",
       "     Extreme temperature                  4         4           4\n",
       "     Wildfire                             5         8           8\n",
       "2021 Drought                              1         1           1\n",
       "     Wildfire                             2         2           2\n",
       "\n",
       "[269 rows x 3 columns]"
      ]
     },
     "execution_count": 46,
     "metadata": {},
     "output_type": "execute_result"
    }
   ],
   "source": [
    "disasters_df.filter(regex = 'Year|Disaster Type|Disaster Subtype').pivot_table(index = ['Year', 'Disaster Type'], aggfunc = 'count')"
   ]
  },
  {
   "cell_type": "code",
   "execution_count": null,
   "id": "df46567e",
   "metadata": {},
   "outputs": [],
   "source": []
  }
 ],
 "metadata": {
  "kernelspec": {
   "display_name": "Python 3",
   "language": "python",
   "name": "python3"
  },
  "language_info": {
   "codemirror_mode": {
    "name": "ipython",
    "version": 3
   },
   "file_extension": ".py",
   "mimetype": "text/x-python",
   "name": "python",
   "nbconvert_exporter": "python",
   "pygments_lexer": "ipython3",
   "version": "3.7.9"
  }
 },
 "nbformat": 4,
 "nbformat_minor": 5
}
